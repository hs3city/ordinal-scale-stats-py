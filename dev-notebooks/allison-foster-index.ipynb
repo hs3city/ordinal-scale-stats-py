{
 "cells": [
  {
   "cell_type": "code",
   "execution_count": 6,
   "id": "initial_id",
   "metadata": {
    "collapsed": true,
    "ExecuteTime": {
     "end_time": "2024-02-04T17:09:10.336724372Z",
     "start_time": "2024-02-04T17:09:10.134545943Z"
    }
   },
   "outputs": [],
   "source": [
    "import pandas as pd\n",
    "\n",
    "from src.core import info\n",
    "from src.allison_foster import af_index"
   ]
  },
  {
   "cell_type": "code",
   "execution_count": 2,
   "outputs": [],
   "source": [
    "df = pd.read_csv('clean-san-francisco-data/processed/general_rate.csv')"
   ],
   "metadata": {
    "collapsed": false,
    "ExecuteTime": {
     "end_time": "2024-02-04T17:07:49.118961385Z",
     "start_time": "2024-02-04T17:07:49.085719907Z"
    }
   },
   "id": "552e91d887d12a63"
  },
  {
   "cell_type": "code",
   "execution_count": 3,
   "outputs": [
    {
     "data": {
      "text/plain": "          frequency      ratio cumulative\nindicator                                \n1              1325    4.26525    4.26525\n2              3649  11.746338  16.011589\n3             13385  43.087075  59.098664\n4             11014  35.454692  94.553356\n5              1692   5.446644      100.0",
      "text/html": "<div>\n<style scoped>\n    .dataframe tbody tr th:only-of-type {\n        vertical-align: middle;\n    }\n\n    .dataframe tbody tr th {\n        vertical-align: top;\n    }\n\n    .dataframe thead th {\n        text-align: right;\n    }\n</style>\n<table border=\"1\" class=\"dataframe\">\n  <thead>\n    <tr style=\"text-align: right;\">\n      <th></th>\n      <th>frequency</th>\n      <th>ratio</th>\n      <th>cumulative</th>\n    </tr>\n    <tr>\n      <th>indicator</th>\n      <th></th>\n      <th></th>\n      <th></th>\n    </tr>\n  </thead>\n  <tbody>\n    <tr>\n      <th>1</th>\n      <td>1325</td>\n      <td>4.26525</td>\n      <td>4.26525</td>\n    </tr>\n    <tr>\n      <th>2</th>\n      <td>3649</td>\n      <td>11.746338</td>\n      <td>16.011589</td>\n    </tr>\n    <tr>\n      <th>3</th>\n      <td>13385</td>\n      <td>43.087075</td>\n      <td>59.098664</td>\n    </tr>\n    <tr>\n      <th>4</th>\n      <td>11014</td>\n      <td>35.454692</td>\n      <td>94.553356</td>\n    </tr>\n    <tr>\n      <th>5</th>\n      <td>1692</td>\n      <td>5.446644</td>\n      <td>100.0</td>\n    </tr>\n  </tbody>\n</table>\n</div>"
     },
     "execution_count": 3,
     "metadata": {},
     "output_type": "execute_result"
    }
   ],
   "source": [
    "info(df['general_rate'], indicators=range(1, 6))"
   ],
   "metadata": {
    "collapsed": false,
    "ExecuteTime": {
     "end_time": "2024-02-04T17:07:50.230273878Z",
     "start_time": "2024-02-04T17:07:50.213981680Z"
    }
   },
   "id": "4cb37f5e4e599854"
  },
  {
   "cell_type": "code",
   "execution_count": 7,
   "outputs": [],
   "source": [
    "allison_foster_index = af_index(df['general_rate'])"
   ],
   "metadata": {
    "collapsed": false,
    "ExecuteTime": {
     "end_time": "2024-02-04T17:09:14.745051094Z",
     "start_time": "2024-02-04T17:09:12.793656119Z"
    }
   },
   "id": "20a878b5f3a34cfc"
  },
  {
   "cell_type": "code",
   "execution_count": 8,
   "outputs": [
    {
     "data": {
      "text/plain": "2.399550636709283"
     },
     "execution_count": 8,
     "metadata": {},
     "output_type": "execute_result"
    }
   ],
   "source": [
    "allison_foster_index.index"
   ],
   "metadata": {
    "collapsed": false,
    "ExecuteTime": {
     "end_time": "2024-02-04T17:09:20.417047103Z",
     "start_time": "2024-02-04T17:09:20.396624704Z"
    }
   },
   "id": "330b703fbab938e1"
  },
  {
   "cell_type": "code",
   "execution_count": 9,
   "outputs": [
    {
     "data": {
      "text/plain": "4.133165433653392"
     },
     "execution_count": 9,
     "metadata": {},
     "output_type": "execute_result"
    }
   ],
   "source": [
    "allison_foster_index.u_h"
   ],
   "metadata": {
    "collapsed": false,
    "ExecuteTime": {
     "end_time": "2024-02-04T17:09:28.675212830Z",
     "start_time": "2024-02-04T17:09:28.646270859Z"
    }
   },
   "id": "84f9c50be9dd870a"
  },
  {
   "cell_type": "code",
   "execution_count": 10,
   "outputs": [
    {
     "data": {
      "text/plain": "1.7336147969441094"
     },
     "execution_count": 10,
     "metadata": {},
     "output_type": "execute_result"
    }
   ],
   "source": [
    "allison_foster_index.u_l"
   ],
   "metadata": {
    "collapsed": false,
    "ExecuteTime": {
     "end_time": "2024-02-04T17:09:34.422469220Z",
     "start_time": "2024-02-04T17:09:34.405577999Z"
    }
   },
   "id": "4bf7ad6c44ab230f"
  },
  {
   "cell_type": "code",
   "execution_count": null,
   "outputs": [],
   "source": [],
   "metadata": {
    "collapsed": false
   },
   "id": "174c54b95a0f56a8"
  }
 ],
 "metadata": {
  "kernelspec": {
   "display_name": "Python 3",
   "language": "python",
   "name": "python3"
  },
  "language_info": {
   "codemirror_mode": {
    "name": "ipython",
    "version": 2
   },
   "file_extension": ".py",
   "mimetype": "text/x-python",
   "name": "python",
   "nbconvert_exporter": "python",
   "pygments_lexer": "ipython2",
   "version": "2.7.6"
  }
 },
 "nbformat": 4,
 "nbformat_minor": 5
}
